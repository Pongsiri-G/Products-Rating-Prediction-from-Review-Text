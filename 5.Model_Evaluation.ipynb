{
 "cells": [
  {
   "cell_type": "markdown",
   "metadata": {},
   "source": [
    "1. รหัส ชื่อ และหมู่ของนิสิตในกลุ่ม\n",
    "- 6610402167 นายพงษ์ศิริ กิตตยุทธนาวิน หมู่ 1\n",
    "- 6610402060 นายธนกฤต ตระการจันทร์ หมู่ 1\n",
    "2. วัตถุประสงค์ของระบบต้นแบบ\n",
    "- ทำนายความพึงพอใจของผู้ใช้ จากรีวิวของผู้ใช้เอง\n",
    "3. ลิงค์ไปยังข้อมูลที่จะใช้ในระบบต้นแบบ\n",
    "- Data set: https://amazon-reviews-2023.github.io/\n",
    "4. ใช้ baseline และ วิธีการประเมินอะไรได้บ้าง อย่างไร มีค่าเป็นเท่าไหร่\n",
    "- ใช้ Zero Rule Baseline และ วิธีการประเมินคือ accuracy score = 0.17615\n",
    "5. training score, test score ปัจจุบันมีค่าเท่าไหร่\n",
    "- training score: 85.76%\n",
    "- test score: 81.77%\n",
    "6. จากการประเมินด้วยวิธีต่าง ๆ สามารถนำโมเดลไปใช้งานจริงได้แล้วหรือไม่ เพราะเหตุใด\n",
    "- ใช้ได้จริง เนื่องจาก trianing score และ test score มีค่าสูง และ ใกล้เคียงกัน บ่งชี้ว่าโมเดลใช้งานได้จริง และโมเดลใช้เวลาไม่นาน\n",
    "7. nำอะไรได้บ้างเพื่อให้คะแนนต่าง ๆ มีค่าสูงขึ้น และ/หรือ โมเดลมีประโยชน์มากขึ้น\n",
    "- ปรับเปลี่ยน hyperparameter ของโมเดล\n",
    "8. ปร​ะเด็น​อื่น ๆ ที่เกี่ยว​ข้องกั​บข้อมูลของ​ตัวเอง\n",
    "- ลืมexport column title ในข้อมูลที่นำมาใช้ ซึ่งไม่ได้ใช้ในการทำโมเดล\n",
    "9. ก​าร​มีส่วน​ร่วมของสม​าชิกแต่ละ​คนในกลุ่ม (แต่ล​ะคนทำอะไรบ้าง)\n",
    "- นายพงษ์ศิริ เตรียมโมเดล SVC\n",
    "- นายธนกฤต ทำการทดสอบ หา baseline และ การประเมินคะแนนต่างๆ\n",
    "10. กา​รเปิ​ดเผ​ยกา​รใช้เค​รื่อ​งมือปัญ​ญาป​ระดิษฐ์ (ใช้อะไร ใช้เพื่ออะไร ใช้อย่างไร, pro​mpt อย่างไร)\n",
    "- ChatGPT: ใช้ช่วยการหา baseline `zero rule baseline with sklearn`"
   ]
  },
  {
   "cell_type": "code",
   "execution_count": 20,
   "metadata": {},
   "outputs": [],
   "source": [
    "import pandas as pd\n",
    "import numpy as np\n",
    "import matplotlib.pyplot as plt\n",
    "from imblearn.over_sampling import RandomOverSampler\n",
    "from sklearn.metrics import accuracy_score, confusion_matrix,classification_report,precision_score\n",
    "from sklearn.svm import LinearSVC\n",
    "from sklearn.dummy import DummyClassifier\n",
    "import matplotlib.pyplot as plt\n",
    "import seaborn as sns"
   ]
  },
  {
   "cell_type": "code",
   "execution_count": 21,
   "metadata": {},
   "outputs": [
    {
     "data": {
      "text/html": [
       "<div>\n",
       "<style scoped>\n",
       "    .dataframe tbody tr th:only-of-type {\n",
       "        vertical-align: middle;\n",
       "    }\n",
       "\n",
       "    .dataframe tbody tr th {\n",
       "        vertical-align: top;\n",
       "    }\n",
       "\n",
       "    .dataframe thead th {\n",
       "        text-align: right;\n",
       "    }\n",
       "</style>\n",
       "<table border=\"1\" class=\"dataframe\">\n",
       "  <thead>\n",
       "    <tr style=\"text-align: right;\">\n",
       "      <th></th>\n",
       "      <th>rating</th>\n",
       "      <th>helpful_vote</th>\n",
       "      <th>text</th>\n",
       "      <th>Review</th>\n",
       "      <th>transform_text</th>\n",
       "      <th>Sentiment</th>\n",
       "    </tr>\n",
       "  </thead>\n",
       "  <tbody>\n",
       "    <tr>\n",
       "      <th>0</th>\n",
       "      <td>5.0</td>\n",
       "      <td>0</td>\n",
       "      <td>I love playing tapped out because it is fun to...</td>\n",
       "      <td>Lots of Fun I love playing tapped out because ...</td>\n",
       "      <td>lot fun love play tap fun watch town grow earn...</td>\n",
       "      <td>Positive</td>\n",
       "    </tr>\n",
       "    <tr>\n",
       "      <th>1</th>\n",
       "      <td>5.0</td>\n",
       "      <td>0</td>\n",
       "      <td>I love this flashlight app!  It really illumin...</td>\n",
       "      <td>Light Up The Dark I love this flashlight app! ...</td>\n",
       "      <td>light dark love flashlight app really illumina...</td>\n",
       "      <td>Positive</td>\n",
       "    </tr>\n",
       "    <tr>\n",
       "      <th>2</th>\n",
       "      <td>4.0</td>\n",
       "      <td>0</td>\n",
       "      <td>One of my favorite games</td>\n",
       "      <td>Fun game One of my favorite games</td>\n",
       "      <td>fun game one favorite game</td>\n",
       "      <td>Positive</td>\n",
       "    </tr>\n",
       "    <tr>\n",
       "      <th>3</th>\n",
       "      <td>4.0</td>\n",
       "      <td>0</td>\n",
       "      <td>Cute game. I am not that good at it but my kid...</td>\n",
       "      <td>I am not that good at it but my kids are Cute ...</td>\n",
       "      <td>good kid cute game good kid love nik wallenda</td>\n",
       "      <td>Positive</td>\n",
       "    </tr>\n",
       "    <tr>\n",
       "      <th>4</th>\n",
       "      <td>4.0</td>\n",
       "      <td>0</td>\n",
       "      <td>Made me think , variety of the puzzles kept it...</td>\n",
       "      <td>good game Made me think , variety of the puzzl...</td>\n",
       "      <td>good game make think variety puzzle keep fun p...</td>\n",
       "      <td>Positive</td>\n",
       "    </tr>\n",
       "  </tbody>\n",
       "</table>\n",
       "</div>"
      ],
      "text/plain": [
       "   rating  helpful_vote                                               text  \\\n",
       "0     5.0             0  I love playing tapped out because it is fun to...   \n",
       "1     5.0             0  I love this flashlight app!  It really illumin...   \n",
       "2     4.0             0                           One of my favorite games   \n",
       "3     4.0             0  Cute game. I am not that good at it but my kid...   \n",
       "4     4.0             0  Made me think , variety of the puzzles kept it...   \n",
       "\n",
       "                                              Review  \\\n",
       "0  Lots of Fun I love playing tapped out because ...   \n",
       "1  Light Up The Dark I love this flashlight app! ...   \n",
       "2                  Fun game One of my favorite games   \n",
       "3  I am not that good at it but my kids are Cute ...   \n",
       "4  good game Made me think , variety of the puzzl...   \n",
       "\n",
       "                                      transform_text Sentiment  \n",
       "0  lot fun love play tap fun watch town grow earn...  Positive  \n",
       "1  light dark love flashlight app really illumina...  Positive  \n",
       "2                         fun game one favorite game  Positive  \n",
       "3      good kid cute game good kid love nik wallenda  Positive  \n",
       "4  good game make think variety puzzle keep fun p...  Positive  "
      ]
     },
     "execution_count": 21,
     "metadata": {},
     "output_type": "execute_result"
    }
   ],
   "source": [
    "dataUrl = \"../assets/my_data/Review.csv\"\n",
    "\n",
    "df = pd.read_csv(dataUrl)\n",
    "df.head()"
   ]
  },
  {
   "cell_type": "code",
   "execution_count": 22,
   "metadata": {},
   "outputs": [
    {
     "name": "stdout",
     "output_type": "stream",
     "text": [
      "<class 'pandas.core.frame.DataFrame'>\n",
      "Index: 100000 entries, 3571354 to 870538\n",
      "Data columns (total 6 columns):\n",
      " #   Column          Non-Null Count   Dtype  \n",
      "---  ------          --------------   -----  \n",
      " 0   rating          100000 non-null  float64\n",
      " 1   helpful_vote    100000 non-null  int64  \n",
      " 2   text            100000 non-null  object \n",
      " 3   Review          100000 non-null  object \n",
      " 4   transform_text  100000 non-null  object \n",
      " 5   Sentiment       100000 non-null  object \n",
      "dtypes: float64(1), int64(1), object(4)\n",
      "memory usage: 5.3+ MB\n"
     ]
    }
   ],
   "source": [
    "data = df.sample(n=100_000, random_state=123)\n",
    "data.info()"
   ]
  },
  {
   "cell_type": "code",
   "execution_count": 23,
   "metadata": {},
   "outputs": [],
   "source": [
    "# Split the data into X and Y\n",
    "from sklearn.model_selection import train_test_split\n",
    "from sklearn.feature_extraction.text import TfidfVectorizer\n",
    "from sklearn.preprocessing import LabelEncoder\n",
    "\n",
    "X = data['transform_text']\n",
    "Y = data['Sentiment']\n",
    "\n",
    "# Vectorizing the text data\n",
    "vect = TfidfVectorizer()\n",
    "X = vect.fit_transform(data['transform_text'])\n",
    "\n",
    "# Splitting the dataset into training and testing sets\n",
    "x_train, x_test, y_train, y_test = train_test_split(\n",
    "    X, Y, test_size=0.2, random_state=123)\n",
    "\n",
    "# Encoding the target variable\n",
    "labelEncoder = LabelEncoder()\n",
    "y_train = labelEncoder.fit_transform(y_train)\n",
    "y_test = labelEncoder.transform(y_test)"
   ]
  },
  {
   "cell_type": "code",
   "execution_count": 24,
   "metadata": {},
   "outputs": [],
   "source": [
    "ros = RandomOverSampler()\n",
    "ros_X_train, ros_y_train = ros.fit_resample(x_train, y_train)"
   ]
  },
  {
   "cell_type": "code",
   "execution_count": 25,
   "metadata": {},
   "outputs": [],
   "source": [
    "c = 0.1\n",
    "svc=LinearSVC(C=c)\n",
    "svc.fit(ros_X_train,ros_y_train)\n",
    "svc_pred=svc.predict(x_test)"
   ]
  },
  {
   "cell_type": "code",
   "execution_count": null,
   "metadata": {},
   "outputs": [],
   "source": [
    "print(\"Test accuracy: {:.2f}%\".format(svc_acc*100))\n",
    "# Plot confusion matrix\n",
    "cm = confusion_matrix(y_test, svc_pred)\n",
    "plt.figure(figsize=(10, 7))\n",
    "sns.heatmap(cm, annot=True, fmt='d', cmap='Blues',\n",
    "            xticklabels=['Negative', 'Neutral', 'Positive'],\n",
    "            yticklabels=['Negative', 'Neutral', 'Positive'])\n",
    "plt.xlabel('Predicted')\n",
    "plt.ylabel('Actual')\n",
    "plt.title('Confusion Matrix of LinearSVC')\n",
    "plt.show()\n",
    "print(classification_report(y_test, svc_pred))"
   ]
  },
  {
   "cell_type": "code",
   "execution_count": 29,
   "metadata": {},
   "outputs": [],
   "source": [
    "zero_rule = DummyClassifier(strategy='most_frequent')\n",
    "zero_rule.fit(ros_X_train, ros_y_train)\n",
    "zero_rule_pred = zero_rule.predict(x_test)\n",
    "\n"
   ]
  },
  {
   "cell_type": "code",
   "execution_count": 30,
   "metadata": {},
   "outputs": [
    {
     "name": "stdout",
     "output_type": "stream",
     "text": [
      "              precision    recall  f1-score   support\n",
      "\n",
      "           0       0.70      0.80      0.75      3523\n",
      "           1       0.34      0.55      0.42      1688\n",
      "           2       0.96      0.85      0.90     14789\n",
      "\n",
      "    accuracy                           0.82     20000\n",
      "   macro avg       0.66      0.73      0.69     20000\n",
      "weighted avg       0.86      0.82      0.83     20000\n",
      "\n",
      "SVC Accuracy: 0.8177\n",
      "\n",
      "--------------\n",
      "\n",
      "              precision    recall  f1-score   support\n",
      "\n",
      "           0       0.18      1.00      0.30      3523\n",
      "           1       0.00      0.00      0.00      1688\n",
      "           2       0.00      0.00      0.00     14789\n",
      "\n",
      "    accuracy                           0.18     20000\n",
      "   macro avg       0.06      0.33      0.10     20000\n",
      "weighted avg       0.03      0.18      0.05     20000\n",
      "\n",
      "Zero Rule Classifier Accuracy: 0.17615\n"
     ]
    },
    {
     "name": "stderr",
     "output_type": "stream",
     "text": [
      "/Users/thanakrittrakanjan/KU/MlLab/.venv/lib/python3.12/site-packages/sklearn/metrics/_classification.py:1531: UndefinedMetricWarning: Precision is ill-defined and being set to 0.0 in labels with no predicted samples. Use `zero_division` parameter to control this behavior.\n",
      "  _warn_prf(average, modifier, f\"{metric.capitalize()} is\", len(result))\n",
      "/Users/thanakrittrakanjan/KU/MlLab/.venv/lib/python3.12/site-packages/sklearn/metrics/_classification.py:1531: UndefinedMetricWarning: Precision is ill-defined and being set to 0.0 in labels with no predicted samples. Use `zero_division` parameter to control this behavior.\n",
      "  _warn_prf(average, modifier, f\"{metric.capitalize()} is\", len(result))\n",
      "/Users/thanakrittrakanjan/KU/MlLab/.venv/lib/python3.12/site-packages/sklearn/metrics/_classification.py:1531: UndefinedMetricWarning: Precision is ill-defined and being set to 0.0 in labels with no predicted samples. Use `zero_division` parameter to control this behavior.\n",
      "  _warn_prf(average, modifier, f\"{metric.capitalize()} is\", len(result))\n"
     ]
    }
   ],
   "source": [
    "print(classification_report(y_test, svc_pred))\n",
    "svc_accuracy = accuracy_score(y_test, svc_pred)\n",
    "print(f\"SVC Accuracy: {svc_accuracy}\")\n",
    "print(\"\\n--------------\\n\")\n",
    "print(classification_report(y_test, zero_rule_pred))\n",
    "zero_rule_accuracy = accuracy_score(y_test, zero_rule_pred)\n",
    "print(f'Zero Rule Classifier Accuracy: {zero_rule_accuracy}')"
   ]
  },
  {
   "cell_type": "code",
   "execution_count": 34,
   "metadata": {},
   "outputs": [
    {
     "name": "stdout",
     "output_type": "stream",
     "text": [
      "Test accuracy: 81.77%\n"
     ]
    },
    {
     "data": {
      "image/png": "[encoded data removed]",
      "text/plain": [
       "<Figure size 1000x700 with 2 Axes>"
      ]
     },
     "metadata": {},
     "output_type": "display_data"
    },
    {
     "name": "stdout",
     "output_type": "stream",
     "text": [
      "              precision    recall  f1-score   support\n",
      "\n",
      "           0       0.70      0.80      0.75      3523\n",
      "           1       0.34      0.55      0.42      1688\n",
      "           2       0.96      0.85      0.90     14789\n",
      "\n",
      "    accuracy                           0.82     20000\n",
      "   macro avg       0.66      0.73      0.69     20000\n",
      "weighted avg       0.86      0.82      0.83     20000\n",
      "\n"
     ]
    }
   ],
   "source": [
    "print(\"Test accuracy: {:.2f}%\".format(svc_accuracy*100))\n",
    "# Plot confusion matrix\n",
    "cm = confusion_matrix(y_test, svc_pred)\n",
    "plt.figure(figsize=(10, 7))\n",
    "sns.heatmap(cm, annot=True, fmt='d', cmap='Blues',\n",
    "            xticklabels=['Negative', 'Neutral', 'Positive'],\n",
    "            yticklabels=['Negative', 'Neutral', 'Positive'])\n",
    "plt.xlabel('Predicted')\n",
    "plt.ylabel('Actual')\n",
    "plt.title('Confusion Matrix of LinearSVC')\n",
    "plt.show()\n",
    "print(classification_report(y_test, svc_pred))"
   ]
  },
  {
   "cell_type": "code",
   "execution_count": 32,
   "metadata": {},
   "outputs": [
    {
     "name": "stdout",
     "output_type": "stream",
     "text": [
      "Training Score: 85.75691187713232\n"
     ]
    }
   ],
   "source": [
    "train_pred = svc.predict(ros_X_train)\n",
    "train_score = accuracy_score(ros_y_train, train_pred)\n",
    "print(f'Training Score: {train_score * 100}')"
   ]
  },
  {
   "cell_type": "code",
   "execution_count": 33,
   "metadata": {},
   "outputs": [
    {
     "name": "stdout",
     "output_type": "stream",
     "text": [
      "Test Score: 81.77\n"
     ]
    }
   ],
   "source": [
    "test_pred = svc.predict(x_test)\n",
    "test_score = accuracy_score(y_test, test_pred)\n",
    "print(f'Test Score: {test_score * 100}')"
   ]
  }
 ],
 "metadata": {
  "kernelspec": {
   "display_name": ".venv",
   "language": "python",
   "name": "python3"
  },
  "language_info": {
   "codemirror_mode": {
    "name": "ipython",
    "version": 3
   },
   "file_extension": ".py",
   "mimetype": "text/x-python",
   "name": "python",
   "nbconvert_exporter": "python",
   "pygments_lexer": "ipython3",
   "version": "3.12.4"
  }
 },
 "nbformat": 4,
 "nbformat_minor": 2
}
