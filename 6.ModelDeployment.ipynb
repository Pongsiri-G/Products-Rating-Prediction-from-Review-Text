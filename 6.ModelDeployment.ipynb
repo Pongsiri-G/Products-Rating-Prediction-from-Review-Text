{
 "cells": [
  {
   "cell_type": "code",
   "execution_count": 14,
   "metadata": {},
   "outputs": [],
   "source": [
    "import pandas as pd\n",
    "from imblearn.over_sampling import RandomOverSampler\n",
    "from sklearn.svm import LinearSVC\n",
    "from sklearn.pipeline import Pipeline\n",
    "from sklearn.feature_extraction.text import TfidfVectorizer\n",
    "from sklearn.preprocessing import LabelEncoder\n",
    "from sklearn.model_selection import train_test_split"
   ]
  },
  {
   "cell_type": "code",
   "execution_count": 3,
   "metadata": {},
   "outputs": [
    {
     "data": {
      "text/html": [
       "<div>\n",
       "<style scoped>\n",
       "    .dataframe tbody tr th:only-of-type {\n",
       "        vertical-align: middle;\n",
       "    }\n",
       "\n",
       "    .dataframe tbody tr th {\n",
       "        vertical-align: top;\n",
       "    }\n",
       "\n",
       "    .dataframe thead th {\n",
       "        text-align: right;\n",
       "    }\n",
       "</style>\n",
       "<table border=\"1\" class=\"dataframe\">\n",
       "  <thead>\n",
       "    <tr style=\"text-align: right;\">\n",
       "      <th></th>\n",
       "      <th>rating</th>\n",
       "      <th>helpful_vote</th>\n",
       "      <th>text</th>\n",
       "      <th>Review</th>\n",
       "      <th>transform_text</th>\n",
       "      <th>Sentiment</th>\n",
       "    </tr>\n",
       "  </thead>\n",
       "  <tbody>\n",
       "    <tr>\n",
       "      <th>0</th>\n",
       "      <td>5.0</td>\n",
       "      <td>0</td>\n",
       "      <td>I love playing tapped out because it is fun to...</td>\n",
       "      <td>Lots of Fun I love playing tapped out because ...</td>\n",
       "      <td>lot fun love play tap fun watch town grow earn...</td>\n",
       "      <td>Positive</td>\n",
       "    </tr>\n",
       "    <tr>\n",
       "      <th>1</th>\n",
       "      <td>5.0</td>\n",
       "      <td>0</td>\n",
       "      <td>I love this flashlight app!  It really illumin...</td>\n",
       "      <td>Light Up The Dark I love this flashlight app! ...</td>\n",
       "      <td>light dark love flashlight app really illumina...</td>\n",
       "      <td>Positive</td>\n",
       "    </tr>\n",
       "    <tr>\n",
       "      <th>2</th>\n",
       "      <td>4.0</td>\n",
       "      <td>0</td>\n",
       "      <td>One of my favorite games</td>\n",
       "      <td>Fun game One of my favorite games</td>\n",
       "      <td>fun game one favorite game</td>\n",
       "      <td>Positive</td>\n",
       "    </tr>\n",
       "    <tr>\n",
       "      <th>3</th>\n",
       "      <td>4.0</td>\n",
       "      <td>0</td>\n",
       "      <td>Cute game. I am not that good at it but my kid...</td>\n",
       "      <td>I am not that good at it but my kids are Cute ...</td>\n",
       "      <td>good kid cute game good kid love nik wallenda</td>\n",
       "      <td>Positive</td>\n",
       "    </tr>\n",
       "    <tr>\n",
       "      <th>4</th>\n",
       "      <td>4.0</td>\n",
       "      <td>0</td>\n",
       "      <td>Made me think , variety of the puzzles kept it...</td>\n",
       "      <td>good game Made me think , variety of the puzzl...</td>\n",
       "      <td>good game make think variety puzzle keep fun p...</td>\n",
       "      <td>Positive</td>\n",
       "    </tr>\n",
       "  </tbody>\n",
       "</table>\n",
       "</div>"
      ],
      "text/plain": [
       "   rating  helpful_vote                                               text  \\\n",
       "0     5.0             0  I love playing tapped out because it is fun to...   \n",
       "1     5.0             0  I love this flashlight app!  It really illumin...   \n",
       "2     4.0             0                           One of my favorite games   \n",
       "3     4.0             0  Cute game. I am not that good at it but my kid...   \n",
       "4     4.0             0  Made me think , variety of the puzzles kept it...   \n",
       "\n",
       "                                              Review  \\\n",
       "0  Lots of Fun I love playing tapped out because ...   \n",
       "1  Light Up The Dark I love this flashlight app! ...   \n",
       "2                  Fun game One of my favorite games   \n",
       "3  I am not that good at it but my kids are Cute ...   \n",
       "4  good game Made me think , variety of the puzzl...   \n",
       "\n",
       "                                      transform_text Sentiment  \n",
       "0  lot fun love play tap fun watch town grow earn...  Positive  \n",
       "1  light dark love flashlight app really illumina...  Positive  \n",
       "2                         fun game one favorite game  Positive  \n",
       "3      good kid cute game good kid love nik wallenda  Positive  \n",
       "4  good game make think variety puzzle keep fun p...  Positive  "
      ]
     },
     "execution_count": 3,
     "metadata": {},
     "output_type": "execute_result"
    }
   ],
   "source": [
    "dataUrl = \"../assets/my_data/Review.csv\" # path to the data\n",
    "\n",
    "df = pd.read_csv(dataUrl)\n",
    "df.head()"
   ]
  },
  {
   "cell_type": "code",
   "execution_count": 21,
   "metadata": {},
   "outputs": [],
   "source": [
    "X = df['Review']\n",
    "Y = df['Sentiment']\n",
    "\n",
    "x_train, x_test, y_train, y_test = train_test_split(X, Y, test_size=0.2, random_state=123)"
   ]
  },
  {
   "cell_type": "code",
   "execution_count": null,
   "metadata": {},
   "outputs": [],
   "source": []
  },
  {
   "cell_type": "code",
   "execution_count": 19,
   "metadata": {},
   "outputs": [],
   "source": [
    "full_pipeline = Pipeline([\n",
    "    'sampling', RandomOverSampler(),\n",
    "    'tfidf', TfidfVectorizer(),\n",
    "    'svc', LinearSVC(C=0.1)\n",
    "])\n"
   ]
  },
  {
   "cell_type": "code",
   "execution_count": 24,
   "metadata": {},
   "outputs": [
    {
     "name": "stdout",
     "output_type": "stream",
     "text": [
      "Error:  too many values to unpack (expected 2)\n"
     ]
    }
   ],
   "source": [
    "try:\n",
    "    full_pipeline.fit(x_train, y_train)\n",
    "    print(\"Model trained successfully\")\n",
    "except Exception as e:\n",
    "    print(\"Error: \", e)"
   ]
  },
  {
   "cell_type": "markdown",
   "metadata": {},
   "source": [
    "# Export \"artifacts\""
   ]
  },
  {
   "cell_type": "code",
   "execution_count": 20,
   "metadata": {},
   "outputs": [
    {
     "ename": "NameError",
     "evalue": "name 'pipeline' is not defined",
     "output_type": "error",
     "traceback": [
      "\u001b[0;31m---------------------------------------------------------------------------\u001b[0m",
      "\u001b[0;31mNameError\u001b[0m                                 Traceback (most recent call last)",
      "Cell \u001b[0;32mIn[20], line 3\u001b[0m\n\u001b[1;32m      1\u001b[0m \u001b[38;5;28;01mimport\u001b[39;00m \u001b[38;5;21;01mjoblib\u001b[39;00m\n\u001b[0;32m----> 3\u001b[0m joblib\u001b[38;5;241m.\u001b[39mdump(\u001b[43mpipeline\u001b[49m, \u001b[38;5;124m\"\u001b[39m\u001b[38;5;124mpipeline.joblib\u001b[39m\u001b[38;5;124m\"\u001b[39m)\n\u001b[1;32m      4\u001b[0m joblib\u001b[38;5;241m.\u001b[39mdump(label_pipeline, \u001b[38;5;124m\"\u001b[39m\u001b[38;5;124mlabel_pipeline.joblib\u001b[39m\u001b[38;5;124m\"\u001b[39m)\n",
      "\u001b[0;31mNameError\u001b[0m: name 'pipeline' is not defined"
     ]
    }
   ],
   "source": [
    "import joblib\n",
    "\n",
    "joblib.dump(pipeline, \"pipeline.joblib\")\n",
    "joblib.dump(label_pipeline, \"label_pipeline.joblib\")"
   ]
  }
 ],
 "metadata": {
  "kernelspec": {
   "display_name": ".venv",
   "language": "python",
   "name": "python3"
  },
  "language_info": {
   "codemirror_mode": {
    "name": "ipython",
    "version": 3
   },
   "file_extension": ".py",
   "mimetype": "text/x-python",
   "name": "python",
   "nbconvert_exporter": "python",
   "pygments_lexer": "ipython3",
   "version": "3.12.4"
  }
 },
 "nbformat": 4,
 "nbformat_minor": 2
}
